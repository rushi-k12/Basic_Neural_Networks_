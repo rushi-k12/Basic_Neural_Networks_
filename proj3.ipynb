{
  "nbformat": 4,
  "nbformat_minor": 0,
  "metadata": {
    "colab": {
      "provenance": [],
      "authorship_tag": "ABX9TyOs3Hog/AgSPFllSVNj8Q9P",
      "include_colab_link": true
    },
    "kernelspec": {
      "name": "python3",
      "display_name": "Python 3"
    },
    "language_info": {
      "name": "python"
    }
  },
  "cells": [
    {
      "cell_type": "markdown",
      "metadata": {
        "id": "view-in-github",
        "colab_type": "text"
      },
      "source": [
        "<a href=\"https://colab.research.google.com/github/rushi-k12/Basic_Neural_Networks_/blob/main/proj3.ipynb\" target=\"_parent\"><img src=\"https://colab.research.google.com/assets/colab-badge.svg\" alt=\"Open In Colab\"/></a>"
      ]
    },
    {
      "cell_type": "code",
      "execution_count": 1,
      "metadata": {
        "id": "sKYVdes_0uoR"
      },
      "outputs": [],
      "source": [
        "from numpy import loadtxt\n",
        "import pandas as pd\n",
        "import matplotlib.pyplot as plt\n",
        "import sklearn as skl\n",
        "import seaborn as sns\n",
        "import tensorflow as tf\n",
        "from tensorflow.keras.models import Sequential\n",
        "from tensorflow.keras.layers import Dense"
      ]
    },
    {
      "cell_type": "code",
      "source": [
        "!unzip /content/churn.zip"
      ],
      "metadata": {
        "colab": {
          "base_uri": "https://localhost:8080/"
        },
        "id": "cF127fD1UCXm",
        "outputId": "e56fc879-38a3-4bf0-9f8e-eea7638c7d59"
      },
      "execution_count": null,
      "outputs": [
        {
          "output_type": "stream",
          "name": "stdout",
          "text": [
            "Archive:  /content/churn.zip\n",
            "  inflating: Churn.csv               \n"
          ]
        }
      ]
    },
    {
      "cell_type": "code",
      "source": [
        "df = pd.read_csv(\"/content/Churn.csv\")"
      ],
      "metadata": {
        "id": "O5ziMNRbUc5_"
      },
      "execution_count": null,
      "outputs": []
    },
    {
      "cell_type": "code",
      "source": [
        "df"
      ],
      "metadata": {
        "colab": {
          "base_uri": "https://localhost:8080/",
          "height": 423
        },
        "id": "1RC7W1KhUu8y",
        "outputId": "910d2130-5004-4407-9d1c-b038a555f907"
      },
      "execution_count": null,
      "outputs": [
        {
          "output_type": "execute_result",
          "data": {
            "text/plain": [
              "      CreditScore Geography  Gender  Age  Tenure    Balance  NumOfProducts  \\\n",
              "0             619    France  Female   42       2       0.00              1   \n",
              "1             608     Spain  Female   41       1   83807.86              1   \n",
              "2             502    France  Female   42       8  159660.80              3   \n",
              "3             699    France  Female   39       1       0.00              2   \n",
              "4             850     Spain  Female   43       2  125510.82              1   \n",
              "...           ...       ...     ...  ...     ...        ...            ...   \n",
              "9995          771    France    Male   39       5       0.00              2   \n",
              "9996          516    France    Male   35      10   57369.61              1   \n",
              "9997          709    France  Female   36       7       0.00              1   \n",
              "9998          772   Germany    Male   42       3   75075.31              2   \n",
              "9999          792    France  Female   28       4  130142.79              1   \n",
              "\n",
              "      HasCrCard  IsActiveMember  EstimatedSalary  Exited  \n",
              "0             1               1        101348.88       1  \n",
              "1             0               1        112542.58       0  \n",
              "2             1               0        113931.57       1  \n",
              "3             0               0         93826.63       0  \n",
              "4             1               1         79084.10       0  \n",
              "...         ...             ...              ...     ...  \n",
              "9995          1               0         96270.64       0  \n",
              "9996          1               1        101699.77       0  \n",
              "9997          0               1         42085.58       1  \n",
              "9998          1               0         92888.52       1  \n",
              "9999          1               0         38190.78       0  \n",
              "\n",
              "[10000 rows x 11 columns]"
            ],
            "text/html": [
              "\n",
              "  <div id=\"df-7e31b755-f63a-4205-b62d-c5a452a42074\" class=\"colab-df-container\">\n",
              "    <div>\n",
              "<style scoped>\n",
              "    .dataframe tbody tr th:only-of-type {\n",
              "        vertical-align: middle;\n",
              "    }\n",
              "\n",
              "    .dataframe tbody tr th {\n",
              "        vertical-align: top;\n",
              "    }\n",
              "\n",
              "    .dataframe thead th {\n",
              "        text-align: right;\n",
              "    }\n",
              "</style>\n",
              "<table border=\"1\" class=\"dataframe\">\n",
              "  <thead>\n",
              "    <tr style=\"text-align: right;\">\n",
              "      <th></th>\n",
              "      <th>CreditScore</th>\n",
              "      <th>Geography</th>\n",
              "      <th>Gender</th>\n",
              "      <th>Age</th>\n",
              "      <th>Tenure</th>\n",
              "      <th>Balance</th>\n",
              "      <th>NumOfProducts</th>\n",
              "      <th>HasCrCard</th>\n",
              "      <th>IsActiveMember</th>\n",
              "      <th>EstimatedSalary</th>\n",
              "      <th>Exited</th>\n",
              "    </tr>\n",
              "  </thead>\n",
              "  <tbody>\n",
              "    <tr>\n",
              "      <th>0</th>\n",
              "      <td>619</td>\n",
              "      <td>France</td>\n",
              "      <td>Female</td>\n",
              "      <td>42</td>\n",
              "      <td>2</td>\n",
              "      <td>0.00</td>\n",
              "      <td>1</td>\n",
              "      <td>1</td>\n",
              "      <td>1</td>\n",
              "      <td>101348.88</td>\n",
              "      <td>1</td>\n",
              "    </tr>\n",
              "    <tr>\n",
              "      <th>1</th>\n",
              "      <td>608</td>\n",
              "      <td>Spain</td>\n",
              "      <td>Female</td>\n",
              "      <td>41</td>\n",
              "      <td>1</td>\n",
              "      <td>83807.86</td>\n",
              "      <td>1</td>\n",
              "      <td>0</td>\n",
              "      <td>1</td>\n",
              "      <td>112542.58</td>\n",
              "      <td>0</td>\n",
              "    </tr>\n",
              "    <tr>\n",
              "      <th>2</th>\n",
              "      <td>502</td>\n",
              "      <td>France</td>\n",
              "      <td>Female</td>\n",
              "      <td>42</td>\n",
              "      <td>8</td>\n",
              "      <td>159660.80</td>\n",
              "      <td>3</td>\n",
              "      <td>1</td>\n",
              "      <td>0</td>\n",
              "      <td>113931.57</td>\n",
              "      <td>1</td>\n",
              "    </tr>\n",
              "    <tr>\n",
              "      <th>3</th>\n",
              "      <td>699</td>\n",
              "      <td>France</td>\n",
              "      <td>Female</td>\n",
              "      <td>39</td>\n",
              "      <td>1</td>\n",
              "      <td>0.00</td>\n",
              "      <td>2</td>\n",
              "      <td>0</td>\n",
              "      <td>0</td>\n",
              "      <td>93826.63</td>\n",
              "      <td>0</td>\n",
              "    </tr>\n",
              "    <tr>\n",
              "      <th>4</th>\n",
              "      <td>850</td>\n",
              "      <td>Spain</td>\n",
              "      <td>Female</td>\n",
              "      <td>43</td>\n",
              "      <td>2</td>\n",
              "      <td>125510.82</td>\n",
              "      <td>1</td>\n",
              "      <td>1</td>\n",
              "      <td>1</td>\n",
              "      <td>79084.10</td>\n",
              "      <td>0</td>\n",
              "    </tr>\n",
              "    <tr>\n",
              "      <th>...</th>\n",
              "      <td>...</td>\n",
              "      <td>...</td>\n",
              "      <td>...</td>\n",
              "      <td>...</td>\n",
              "      <td>...</td>\n",
              "      <td>...</td>\n",
              "      <td>...</td>\n",
              "      <td>...</td>\n",
              "      <td>...</td>\n",
              "      <td>...</td>\n",
              "      <td>...</td>\n",
              "    </tr>\n",
              "    <tr>\n",
              "      <th>9995</th>\n",
              "      <td>771</td>\n",
              "      <td>France</td>\n",
              "      <td>Male</td>\n",
              "      <td>39</td>\n",
              "      <td>5</td>\n",
              "      <td>0.00</td>\n",
              "      <td>2</td>\n",
              "      <td>1</td>\n",
              "      <td>0</td>\n",
              "      <td>96270.64</td>\n",
              "      <td>0</td>\n",
              "    </tr>\n",
              "    <tr>\n",
              "      <th>9996</th>\n",
              "      <td>516</td>\n",
              "      <td>France</td>\n",
              "      <td>Male</td>\n",
              "      <td>35</td>\n",
              "      <td>10</td>\n",
              "      <td>57369.61</td>\n",
              "      <td>1</td>\n",
              "      <td>1</td>\n",
              "      <td>1</td>\n",
              "      <td>101699.77</td>\n",
              "      <td>0</td>\n",
              "    </tr>\n",
              "    <tr>\n",
              "      <th>9997</th>\n",
              "      <td>709</td>\n",
              "      <td>France</td>\n",
              "      <td>Female</td>\n",
              "      <td>36</td>\n",
              "      <td>7</td>\n",
              "      <td>0.00</td>\n",
              "      <td>1</td>\n",
              "      <td>0</td>\n",
              "      <td>1</td>\n",
              "      <td>42085.58</td>\n",
              "      <td>1</td>\n",
              "    </tr>\n",
              "    <tr>\n",
              "      <th>9998</th>\n",
              "      <td>772</td>\n",
              "      <td>Germany</td>\n",
              "      <td>Male</td>\n",
              "      <td>42</td>\n",
              "      <td>3</td>\n",
              "      <td>75075.31</td>\n",
              "      <td>2</td>\n",
              "      <td>1</td>\n",
              "      <td>0</td>\n",
              "      <td>92888.52</td>\n",
              "      <td>1</td>\n",
              "    </tr>\n",
              "    <tr>\n",
              "      <th>9999</th>\n",
              "      <td>792</td>\n",
              "      <td>France</td>\n",
              "      <td>Female</td>\n",
              "      <td>28</td>\n",
              "      <td>4</td>\n",
              "      <td>130142.79</td>\n",
              "      <td>1</td>\n",
              "      <td>1</td>\n",
              "      <td>0</td>\n",
              "      <td>38190.78</td>\n",
              "      <td>0</td>\n",
              "    </tr>\n",
              "  </tbody>\n",
              "</table>\n",
              "<p>10000 rows × 11 columns</p>\n",
              "</div>\n",
              "    <div class=\"colab-df-buttons\">\n",
              "\n",
              "  <div class=\"colab-df-container\">\n",
              "    <button class=\"colab-df-convert\" onclick=\"convertToInteractive('df-7e31b755-f63a-4205-b62d-c5a452a42074')\"\n",
              "            title=\"Convert this dataframe to an interactive table.\"\n",
              "            style=\"display:none;\">\n",
              "\n",
              "  <svg xmlns=\"http://www.w3.org/2000/svg\" height=\"24px\" viewBox=\"0 -960 960 960\">\n",
              "    <path d=\"M120-120v-720h720v720H120Zm60-500h600v-160H180v160Zm220 220h160v-160H400v160Zm0 220h160v-160H400v160ZM180-400h160v-160H180v160Zm440 0h160v-160H620v160ZM180-180h160v-160H180v160Zm440 0h160v-160H620v160Z\"/>\n",
              "  </svg>\n",
              "    </button>\n",
              "\n",
              "  <style>\n",
              "    .colab-df-container {\n",
              "      display:flex;\n",
              "      gap: 12px;\n",
              "    }\n",
              "\n",
              "    .colab-df-convert {\n",
              "      background-color: #E8F0FE;\n",
              "      border: none;\n",
              "      border-radius: 50%;\n",
              "      cursor: pointer;\n",
              "      display: none;\n",
              "      fill: #1967D2;\n",
              "      height: 32px;\n",
              "      padding: 0 0 0 0;\n",
              "      width: 32px;\n",
              "    }\n",
              "\n",
              "    .colab-df-convert:hover {\n",
              "      background-color: #E2EBFA;\n",
              "      box-shadow: 0px 1px 2px rgba(60, 64, 67, 0.3), 0px 1px 3px 1px rgba(60, 64, 67, 0.15);\n",
              "      fill: #174EA6;\n",
              "    }\n",
              "\n",
              "    .colab-df-buttons div {\n",
              "      margin-bottom: 4px;\n",
              "    }\n",
              "\n",
              "    [theme=dark] .colab-df-convert {\n",
              "      background-color: #3B4455;\n",
              "      fill: #D2E3FC;\n",
              "    }\n",
              "\n",
              "    [theme=dark] .colab-df-convert:hover {\n",
              "      background-color: #434B5C;\n",
              "      box-shadow: 0px 1px 3px 1px rgba(0, 0, 0, 0.15);\n",
              "      filter: drop-shadow(0px 1px 2px rgba(0, 0, 0, 0.3));\n",
              "      fill: #FFFFFF;\n",
              "    }\n",
              "  </style>\n",
              "\n",
              "    <script>\n",
              "      const buttonEl =\n",
              "        document.querySelector('#df-7e31b755-f63a-4205-b62d-c5a452a42074 button.colab-df-convert');\n",
              "      buttonEl.style.display =\n",
              "        google.colab.kernel.accessAllowed ? 'block' : 'none';\n",
              "\n",
              "      async function convertToInteractive(key) {\n",
              "        const element = document.querySelector('#df-7e31b755-f63a-4205-b62d-c5a452a42074');\n",
              "        const dataTable =\n",
              "          await google.colab.kernel.invokeFunction('convertToInteractive',\n",
              "                                                    [key], {});\n",
              "        if (!dataTable) return;\n",
              "\n",
              "        const docLinkHtml = 'Like what you see? Visit the ' +\n",
              "          '<a target=\"_blank\" href=https://colab.research.google.com/notebooks/data_table.ipynb>data table notebook</a>'\n",
              "          + ' to learn more about interactive tables.';\n",
              "        element.innerHTML = '';\n",
              "        dataTable['output_type'] = 'display_data';\n",
              "        await google.colab.output.renderOutput(dataTable, element);\n",
              "        const docLink = document.createElement('div');\n",
              "        docLink.innerHTML = docLinkHtml;\n",
              "        element.appendChild(docLink);\n",
              "      }\n",
              "    </script>\n",
              "  </div>\n",
              "\n",
              "\n",
              "<div id=\"df-539dc0be-af5b-44de-a780-599d62bfbbb9\">\n",
              "  <button class=\"colab-df-quickchart\" onclick=\"quickchart('df-539dc0be-af5b-44de-a780-599d62bfbbb9')\"\n",
              "            title=\"Suggest charts.\"\n",
              "            style=\"display:none;\">\n",
              "\n",
              "<svg xmlns=\"http://www.w3.org/2000/svg\" height=\"24px\"viewBox=\"0 0 24 24\"\n",
              "     width=\"24px\">\n",
              "    <g>\n",
              "        <path d=\"M19 3H5c-1.1 0-2 .9-2 2v14c0 1.1.9 2 2 2h14c1.1 0 2-.9 2-2V5c0-1.1-.9-2-2-2zM9 17H7v-7h2v7zm4 0h-2V7h2v10zm4 0h-2v-4h2v4z\"/>\n",
              "    </g>\n",
              "</svg>\n",
              "  </button>\n",
              "\n",
              "<style>\n",
              "  .colab-df-quickchart {\n",
              "    background-color: #E8F0FE;\n",
              "    border: none;\n",
              "    border-radius: 50%;\n",
              "    cursor: pointer;\n",
              "    display: none;\n",
              "    fill: #1967D2;\n",
              "    height: 32px;\n",
              "    padding: 0 0 0 0;\n",
              "    width: 32px;\n",
              "  }\n",
              "\n",
              "  .colab-df-quickchart:hover {\n",
              "    background-color: #E2EBFA;\n",
              "    box-shadow: 0px 1px 2px rgba(60, 64, 67, 0.3), 0px 1px 3px 1px rgba(60, 64, 67, 0.15);\n",
              "    fill: #174EA6;\n",
              "  }\n",
              "\n",
              "  [theme=dark] .colab-df-quickchart {\n",
              "    background-color: #3B4455;\n",
              "    fill: #D2E3FC;\n",
              "  }\n",
              "\n",
              "  [theme=dark] .colab-df-quickchart:hover {\n",
              "    background-color: #434B5C;\n",
              "    box-shadow: 0px 1px 3px 1px rgba(0, 0, 0, 0.15);\n",
              "    filter: drop-shadow(0px 1px 2px rgba(0, 0, 0, 0.3));\n",
              "    fill: #FFFFFF;\n",
              "  }\n",
              "</style>\n",
              "\n",
              "  <script>\n",
              "    async function quickchart(key) {\n",
              "      const charts = await google.colab.kernel.invokeFunction(\n",
              "          'suggestCharts', [key], {});\n",
              "    }\n",
              "    (() => {\n",
              "      let quickchartButtonEl =\n",
              "        document.querySelector('#df-539dc0be-af5b-44de-a780-599d62bfbbb9 button');\n",
              "      quickchartButtonEl.style.display =\n",
              "        google.colab.kernel.accessAllowed ? 'block' : 'none';\n",
              "    })();\n",
              "  </script>\n",
              "</div>\n",
              "    </div>\n",
              "  </div>\n"
            ]
          },
          "metadata": {},
          "execution_count": 8
        }
      ]
    },
    {
      "cell_type": "code",
      "source": [
        "df.info()"
      ],
      "metadata": {
        "colab": {
          "base_uri": "https://localhost:8080/"
        },
        "id": "DNzgMo51Uvyp",
        "outputId": "ce30dbdb-d09c-4fcf-a5c6-502df7edfe88"
      },
      "execution_count": null,
      "outputs": [
        {
          "output_type": "stream",
          "name": "stdout",
          "text": [
            "<class 'pandas.core.frame.DataFrame'>\n",
            "RangeIndex: 10000 entries, 0 to 9999\n",
            "Data columns (total 12 columns):\n",
            " #   Column             Non-Null Count  Dtype  \n",
            "---  ------             --------------  -----  \n",
            " 0   CreditScore        10000 non-null  int64  \n",
            " 1   Age                10000 non-null  int64  \n",
            " 2   Tenure             10000 non-null  int64  \n",
            " 3   Balance            10000 non-null  float64\n",
            " 4   NumOfProducts      10000 non-null  int64  \n",
            " 5   HasCrCard          10000 non-null  int64  \n",
            " 6   IsActiveMember     10000 non-null  int64  \n",
            " 7   EstimatedSalary    10000 non-null  float64\n",
            " 8   Exited             10000 non-null  int64  \n",
            " 9   Geography_Germany  10000 non-null  uint8  \n",
            " 10  Geography_Spain    10000 non-null  uint8  \n",
            " 11  Gender_Male        10000 non-null  uint8  \n",
            "dtypes: float64(2), int64(7), uint8(3)\n",
            "memory usage: 732.5 KB\n"
          ]
        }
      ]
    },
    {
      "cell_type": "code",
      "source": [
        "df.isnull().sum()"
      ],
      "metadata": {
        "colab": {
          "base_uri": "https://localhost:8080/"
        },
        "id": "Z-rCnH-tVM8N",
        "outputId": "bb925e3e-1e9c-4359-b02f-3a1fb745f52f"
      },
      "execution_count": null,
      "outputs": [
        {
          "output_type": "execute_result",
          "data": {
            "text/plain": [
              "CreditScore          0\n",
              "Age                  0\n",
              "Tenure               0\n",
              "Balance              0\n",
              "NumOfProducts        0\n",
              "HasCrCard            0\n",
              "IsActiveMember       0\n",
              "EstimatedSalary      0\n",
              "Exited               0\n",
              "Geography_Germany    0\n",
              "Geography_Spain      0\n",
              "Gender_Male          0\n",
              "dtype: int64"
            ]
          },
          "metadata": {},
          "execution_count": 21
        }
      ]
    },
    {
      "cell_type": "code",
      "source": [
        "x = df.drop(columns = ['Exited'])\n",
        "y = df['Exited']\n",
        "df = pd.get_dummies(df,columns=['Geography','Gender'],drop_first=True)\n",
        "df.head(3)"
      ],
      "metadata": {
        "colab": {
          "base_uri": "https://localhost:8080/",
          "height": 373
        },
        "id": "mFUvcU0bVUdn",
        "outputId": "e93a1223-2669-4673-e665-c9f72cc1ff31"
      },
      "execution_count": null,
      "outputs": [
        {
          "output_type": "error",
          "ename": "KeyError",
          "evalue": "ignored",
          "traceback": [
            "\u001b[0;31m---------------------------------------------------------------------------\u001b[0m",
            "\u001b[0;31mKeyError\u001b[0m                                  Traceback (most recent call last)",
            "\u001b[0;32m<ipython-input-22-06b05d8b0cb4>\u001b[0m in \u001b[0;36m<cell line: 3>\u001b[0;34m()\u001b[0m\n\u001b[1;32m      1\u001b[0m \u001b[0mx\u001b[0m \u001b[0;34m=\u001b[0m \u001b[0mdf\u001b[0m\u001b[0;34m.\u001b[0m\u001b[0mdrop\u001b[0m\u001b[0;34m(\u001b[0m\u001b[0mcolumns\u001b[0m \u001b[0;34m=\u001b[0m \u001b[0;34m[\u001b[0m\u001b[0;34m'Exited'\u001b[0m\u001b[0;34m]\u001b[0m\u001b[0;34m)\u001b[0m\u001b[0;34m\u001b[0m\u001b[0;34m\u001b[0m\u001b[0m\n\u001b[1;32m      2\u001b[0m \u001b[0my\u001b[0m \u001b[0;34m=\u001b[0m \u001b[0mdf\u001b[0m\u001b[0;34m[\u001b[0m\u001b[0;34m'Exited'\u001b[0m\u001b[0;34m]\u001b[0m\u001b[0;34m\u001b[0m\u001b[0;34m\u001b[0m\u001b[0m\n\u001b[0;32m----> 3\u001b[0;31m \u001b[0mdf\u001b[0m \u001b[0;34m=\u001b[0m \u001b[0mpd\u001b[0m\u001b[0;34m.\u001b[0m\u001b[0mget_dummies\u001b[0m\u001b[0;34m(\u001b[0m\u001b[0mdf\u001b[0m\u001b[0;34m,\u001b[0m\u001b[0mcolumns\u001b[0m\u001b[0;34m=\u001b[0m\u001b[0;34m[\u001b[0m\u001b[0;34m'Geography'\u001b[0m\u001b[0;34m,\u001b[0m\u001b[0;34m'Gender'\u001b[0m\u001b[0;34m]\u001b[0m\u001b[0;34m,\u001b[0m\u001b[0mdrop_first\u001b[0m\u001b[0;34m=\u001b[0m\u001b[0;32mTrue\u001b[0m\u001b[0;34m)\u001b[0m\u001b[0;34m\u001b[0m\u001b[0;34m\u001b[0m\u001b[0m\n\u001b[0m\u001b[1;32m      4\u001b[0m \u001b[0mdf\u001b[0m\u001b[0;34m.\u001b[0m\u001b[0mhead\u001b[0m\u001b[0;34m(\u001b[0m\u001b[0;36m3\u001b[0m\u001b[0;34m)\u001b[0m\u001b[0;34m\u001b[0m\u001b[0;34m\u001b[0m\u001b[0m\n",
            "\u001b[0;32m/usr/local/lib/python3.10/dist-packages/pandas/core/reshape/encoding.py\u001b[0m in \u001b[0;36mget_dummies\u001b[0;34m(data, prefix, prefix_sep, dummy_na, columns, sparse, drop_first, dtype)\u001b[0m\n\u001b[1;32m    144\u001b[0m             \u001b[0;32mraise\u001b[0m \u001b[0mTypeError\u001b[0m\u001b[0;34m(\u001b[0m\u001b[0;34m\"Input must be a list-like for parameter `columns`\"\u001b[0m\u001b[0;34m)\u001b[0m\u001b[0;34m\u001b[0m\u001b[0;34m\u001b[0m\u001b[0m\n\u001b[1;32m    145\u001b[0m         \u001b[0;32melse\u001b[0m\u001b[0;34m:\u001b[0m\u001b[0;34m\u001b[0m\u001b[0;34m\u001b[0m\u001b[0m\n\u001b[0;32m--> 146\u001b[0;31m             \u001b[0mdata_to_encode\u001b[0m \u001b[0;34m=\u001b[0m \u001b[0mdata\u001b[0m\u001b[0;34m[\u001b[0m\u001b[0mcolumns\u001b[0m\u001b[0;34m]\u001b[0m\u001b[0;34m\u001b[0m\u001b[0;34m\u001b[0m\u001b[0m\n\u001b[0m\u001b[1;32m    147\u001b[0m \u001b[0;34m\u001b[0m\u001b[0m\n\u001b[1;32m    148\u001b[0m         \u001b[0;31m# validate prefixes and separator to avoid silently dropping cols\u001b[0m\u001b[0;34m\u001b[0m\u001b[0;34m\u001b[0m\u001b[0m\n",
            "\u001b[0;32m/usr/local/lib/python3.10/dist-packages/pandas/core/frame.py\u001b[0m in \u001b[0;36m__getitem__\u001b[0;34m(self, key)\u001b[0m\n\u001b[1;32m   3811\u001b[0m             \u001b[0;32mif\u001b[0m \u001b[0mis_iterator\u001b[0m\u001b[0;34m(\u001b[0m\u001b[0mkey\u001b[0m\u001b[0;34m)\u001b[0m\u001b[0;34m:\u001b[0m\u001b[0;34m\u001b[0m\u001b[0;34m\u001b[0m\u001b[0m\n\u001b[1;32m   3812\u001b[0m                 \u001b[0mkey\u001b[0m \u001b[0;34m=\u001b[0m \u001b[0mlist\u001b[0m\u001b[0;34m(\u001b[0m\u001b[0mkey\u001b[0m\u001b[0;34m)\u001b[0m\u001b[0;34m\u001b[0m\u001b[0;34m\u001b[0m\u001b[0m\n\u001b[0;32m-> 3813\u001b[0;31m             \u001b[0mindexer\u001b[0m \u001b[0;34m=\u001b[0m \u001b[0mself\u001b[0m\u001b[0;34m.\u001b[0m\u001b[0mcolumns\u001b[0m\u001b[0;34m.\u001b[0m\u001b[0m_get_indexer_strict\u001b[0m\u001b[0;34m(\u001b[0m\u001b[0mkey\u001b[0m\u001b[0;34m,\u001b[0m \u001b[0;34m\"columns\"\u001b[0m\u001b[0;34m)\u001b[0m\u001b[0;34m[\u001b[0m\u001b[0;36m1\u001b[0m\u001b[0;34m]\u001b[0m\u001b[0;34m\u001b[0m\u001b[0;34m\u001b[0m\u001b[0m\n\u001b[0m\u001b[1;32m   3814\u001b[0m \u001b[0;34m\u001b[0m\u001b[0m\n\u001b[1;32m   3815\u001b[0m         \u001b[0;31m# take() does not accept boolean indexers\u001b[0m\u001b[0;34m\u001b[0m\u001b[0;34m\u001b[0m\u001b[0m\n",
            "\u001b[0;32m/usr/local/lib/python3.10/dist-packages/pandas/core/indexes/base.py\u001b[0m in \u001b[0;36m_get_indexer_strict\u001b[0;34m(self, key, axis_name)\u001b[0m\n\u001b[1;32m   6068\u001b[0m             \u001b[0mkeyarr\u001b[0m\u001b[0;34m,\u001b[0m \u001b[0mindexer\u001b[0m\u001b[0;34m,\u001b[0m \u001b[0mnew_indexer\u001b[0m \u001b[0;34m=\u001b[0m \u001b[0mself\u001b[0m\u001b[0;34m.\u001b[0m\u001b[0m_reindex_non_unique\u001b[0m\u001b[0;34m(\u001b[0m\u001b[0mkeyarr\u001b[0m\u001b[0;34m)\u001b[0m\u001b[0;34m\u001b[0m\u001b[0;34m\u001b[0m\u001b[0m\n\u001b[1;32m   6069\u001b[0m \u001b[0;34m\u001b[0m\u001b[0m\n\u001b[0;32m-> 6070\u001b[0;31m         \u001b[0mself\u001b[0m\u001b[0;34m.\u001b[0m\u001b[0m_raise_if_missing\u001b[0m\u001b[0;34m(\u001b[0m\u001b[0mkeyarr\u001b[0m\u001b[0;34m,\u001b[0m \u001b[0mindexer\u001b[0m\u001b[0;34m,\u001b[0m \u001b[0maxis_name\u001b[0m\u001b[0;34m)\u001b[0m\u001b[0;34m\u001b[0m\u001b[0;34m\u001b[0m\u001b[0m\n\u001b[0m\u001b[1;32m   6071\u001b[0m \u001b[0;34m\u001b[0m\u001b[0m\n\u001b[1;32m   6072\u001b[0m         \u001b[0mkeyarr\u001b[0m \u001b[0;34m=\u001b[0m \u001b[0mself\u001b[0m\u001b[0;34m.\u001b[0m\u001b[0mtake\u001b[0m\u001b[0;34m(\u001b[0m\u001b[0mindexer\u001b[0m\u001b[0;34m)\u001b[0m\u001b[0;34m\u001b[0m\u001b[0;34m\u001b[0m\u001b[0m\n",
            "\u001b[0;32m/usr/local/lib/python3.10/dist-packages/pandas/core/indexes/base.py\u001b[0m in \u001b[0;36m_raise_if_missing\u001b[0;34m(self, key, indexer, axis_name)\u001b[0m\n\u001b[1;32m   6128\u001b[0m                 \u001b[0;32mif\u001b[0m \u001b[0muse_interval_msg\u001b[0m\u001b[0;34m:\u001b[0m\u001b[0;34m\u001b[0m\u001b[0;34m\u001b[0m\u001b[0m\n\u001b[1;32m   6129\u001b[0m                     \u001b[0mkey\u001b[0m \u001b[0;34m=\u001b[0m \u001b[0mlist\u001b[0m\u001b[0;34m(\u001b[0m\u001b[0mkey\u001b[0m\u001b[0;34m)\u001b[0m\u001b[0;34m\u001b[0m\u001b[0;34m\u001b[0m\u001b[0m\n\u001b[0;32m-> 6130\u001b[0;31m                 \u001b[0;32mraise\u001b[0m \u001b[0mKeyError\u001b[0m\u001b[0;34m(\u001b[0m\u001b[0;34mf\"None of [{key}] are in the [{axis_name}]\"\u001b[0m\u001b[0;34m)\u001b[0m\u001b[0;34m\u001b[0m\u001b[0;34m\u001b[0m\u001b[0m\n\u001b[0m\u001b[1;32m   6131\u001b[0m \u001b[0;34m\u001b[0m\u001b[0m\n\u001b[1;32m   6132\u001b[0m             \u001b[0mnot_found\u001b[0m \u001b[0;34m=\u001b[0m \u001b[0mlist\u001b[0m\u001b[0;34m(\u001b[0m\u001b[0mensure_index\u001b[0m\u001b[0;34m(\u001b[0m\u001b[0mkey\u001b[0m\u001b[0;34m)\u001b[0m\u001b[0;34m[\u001b[0m\u001b[0mmissing_mask\u001b[0m\u001b[0;34m.\u001b[0m\u001b[0mnonzero\u001b[0m\u001b[0;34m(\u001b[0m\u001b[0;34m)\u001b[0m\u001b[0;34m[\u001b[0m\u001b[0;36m0\u001b[0m\u001b[0;34m]\u001b[0m\u001b[0;34m]\u001b[0m\u001b[0;34m.\u001b[0m\u001b[0munique\u001b[0m\u001b[0;34m(\u001b[0m\u001b[0;34m)\u001b[0m\u001b[0;34m)\u001b[0m\u001b[0;34m\u001b[0m\u001b[0;34m\u001b[0m\u001b[0m\n",
            "\u001b[0;31mKeyError\u001b[0m: \"None of [Index(['Geography', 'Gender'], dtype='object')] are in the [columns]\""
          ]
        }
      ]
    },
    {
      "cell_type": "code",
      "source": [
        "from sklearn.model_selection import train_test_split\n",
        "\n",
        "train_x,test_x,train_y,test_y = train_test_split(x,y,test_size=0.2,random_state=108)"
      ],
      "metadata": {
        "id": "Ze8V8mYZVr3P"
      },
      "execution_count": null,
      "outputs": []
    },
    {
      "cell_type": "code",
      "source": [
        "from sklearn.preprocessing import StandardScaler\n",
        "scal = StandardScaler()\n",
        "train_x_scal = scal.fit_transform(train_x)\n",
        "test_x_scal = scal.fit_transform(test_x)\n"
      ],
      "metadata": {
        "id": "snYuG6C-Vzxm"
      },
      "execution_count": null,
      "outputs": []
    },
    {
      "cell_type": "code",
      "source": [
        "import tensorflow\n",
        "from tensorflow import keras\n",
        "from tensorflow.keras import Sequential\n",
        "from tensorflow.keras.layers import Dense"
      ],
      "metadata": {
        "id": "uzwGRk1HWkZN"
      },
      "execution_count": null,
      "outputs": []
    },
    {
      "cell_type": "code",
      "source": [
        "model = Sequential()\n",
        "\n",
        "#input layer\n",
        "model.add(Dense(3,activation='sigmoid',input_dim=11))\n",
        "#output layer\n",
        "model.add(Dense(1,activation='sigmoid'))"
      ],
      "metadata": {
        "id": "Tyg-2-t30V-j"
      },
      "execution_count": null,
      "outputs": []
    },
    {
      "cell_type": "code",
      "source": [
        "model.summary()"
      ],
      "metadata": {
        "colab": {
          "base_uri": "https://localhost:8080/"
        },
        "id": "4Ns2d03z1kFS",
        "outputId": "d1cb61fc-49fe-410e-dcbf-faa15fd2334c"
      },
      "execution_count": null,
      "outputs": [
        {
          "output_type": "stream",
          "name": "stdout",
          "text": [
            "Model: \"sequential\"\n",
            "_________________________________________________________________\n",
            " Layer (type)                Output Shape              Param #   \n",
            "=================================================================\n",
            " dense (Dense)               (None, 3)                 36        \n",
            "                                                                 \n",
            " dense_1 (Dense)             (None, 1)                 4         \n",
            "                                                                 \n",
            "=================================================================\n",
            "Total params: 40\n",
            "Trainable params: 40\n",
            "Non-trainable params: 0\n",
            "_________________________________________________________________\n"
          ]
        }
      ]
    },
    {
      "cell_type": "code",
      "source": [
        "model.compile(loss = 'binary_crossentropy' , optimizer = 'Adam')"
      ],
      "metadata": {
        "id": "53i8Gi8n1nJo"
      },
      "execution_count": null,
      "outputs": []
    },
    {
      "cell_type": "code",
      "source": [
        "hist = model.fit(train_x_scal , train_y , epochs=10)"
      ],
      "metadata": {
        "colab": {
          "base_uri": "https://localhost:8080/"
        },
        "id": "wVmNitAt3BEZ",
        "outputId": "a7aa6942-dc73-4175-d40d-4fdc4a72e418"
      },
      "execution_count": null,
      "outputs": [
        {
          "output_type": "stream",
          "name": "stdout",
          "text": [
            "Epoch 1/10\n",
            "250/250 [==============================] - 1s 2ms/step - loss: 0.4996\n",
            "Epoch 2/10\n",
            "250/250 [==============================] - 0s 2ms/step - loss: 0.4691\n",
            "Epoch 3/10\n",
            "250/250 [==============================] - 0s 2ms/step - loss: 0.4542\n",
            "Epoch 4/10\n",
            "250/250 [==============================] - 1s 2ms/step - loss: 0.4445\n",
            "Epoch 5/10\n",
            "250/250 [==============================] - 1s 2ms/step - loss: 0.4377\n",
            "Epoch 6/10\n",
            "250/250 [==============================] - 1s 2ms/step - loss: 0.4329\n",
            "Epoch 7/10\n",
            "250/250 [==============================] - 1s 2ms/step - loss: 0.4295\n",
            "Epoch 8/10\n",
            "250/250 [==============================] - 1s 2ms/step - loss: 0.4270\n",
            "Epoch 9/10\n",
            "250/250 [==============================] - 0s 2ms/step - loss: 0.4252\n",
            "Epoch 10/10\n",
            "250/250 [==============================] - 0s 2ms/step - loss: 0.4237\n"
          ]
        }
      ]
    },
    {
      "cell_type": "code",
      "source": [
        "hist.history"
      ],
      "metadata": {
        "colab": {
          "base_uri": "https://localhost:8080/"
        },
        "id": "9HrII74h3IhB",
        "outputId": "a84432cb-7f43-46b3-bb2d-9eeefea6f175"
      },
      "execution_count": null,
      "outputs": [
        {
          "output_type": "execute_result",
          "data": {
            "text/plain": [
              "{'loss': [0.4996144473552704,\n",
              "  0.469109445810318,\n",
              "  0.4541637897491455,\n",
              "  0.4444810748100281,\n",
              "  0.4377478361129761,\n",
              "  0.43292686343193054,\n",
              "  0.4295032024383545,\n",
              "  0.4269910454750061,\n",
              "  0.42518851161003113,\n",
              "  0.42367443442344666]}"
            ]
          },
          "metadata": {},
          "execution_count": 31
        }
      ]
    },
    {
      "cell_type": "code",
      "source": [
        "plt.plot(hist.history['loss'])\n",
        "plt.show"
      ],
      "metadata": {
        "colab": {
          "base_uri": "https://localhost:8080/",
          "height": 447
        },
        "id": "g52RYWhO3UMq",
        "outputId": "9227c3cc-58ca-48b8-9968-6bd251efa6c4"
      },
      "execution_count": null,
      "outputs": [
        {
          "output_type": "execute_result",
          "data": {
            "text/plain": [
              "<function matplotlib.pyplot.show(close=None, block=None)>"
            ]
          },
          "metadata": {},
          "execution_count": 32
        },
        {
          "output_type": "display_data",
          "data": {
            "text/plain": [
              "<Figure size 640x480 with 1 Axes>"
            ],
            "image/png": "[encoded data removed]"
          },
          "metadata": {}
        }
      ]
    },
    {
      "cell_type": "code",
      "source": [
        "model.layers[0].get_weights()"
      ],
      "metadata": {
        "colab": {
          "base_uri": "https://localhost:8080/"
        },
        "id": "addJRIL53gM5",
        "outputId": "fd1e2155-38e5-40d5-881f-e2194b785e56"
      },
      "execution_count": null,
      "outputs": [
        {
          "output_type": "execute_result",
          "data": {
            "text/plain": [
              "[array([[-0.14429295,  0.11429232,  0.21668467],\n",
              "        [-0.86738026, -2.3225849 , -1.2671822 ],\n",
              "        [-0.06678996,  0.30404738,  0.02292815],\n",
              "        [-0.35686815,  0.2683843 , -0.3471108 ],\n",
              "        [ 0.7629423 , -0.0949043 , -0.02969189],\n",
              "        [ 0.0034731 ,  0.10116608,  0.06708877],\n",
              "        [ 0.55162513,  0.47288275,  0.75045574],\n",
              "        [-0.21522352,  0.26292518, -0.11389266],\n",
              "        [-0.17228092, -0.6537593 , -0.73250073],\n",
              "        [ 0.2463285 , -0.13206811, -0.13586542],\n",
              "        [ 0.3118345 ,  0.46825686,  0.4856593 ]], dtype=float32),\n",
              " array([0.21210462, 0.24630776, 0.12691335], dtype=float32)]"
            ]
          },
          "metadata": {},
          "execution_count": 33
        }
      ]
    },
    {
      "cell_type": "code",
      "source": [
        "model.layers[1].get_weights()"
      ],
      "metadata": {
        "colab": {
          "base_uri": "https://localhost:8080/"
        },
        "id": "QPwwteR13qzD",
        "outputId": "09428a3b-8a7e-4486-ef0e-cab3b601ba03"
      },
      "execution_count": null,
      "outputs": [
        {
          "output_type": "execute_result",
          "data": {
            "text/plain": [
              "[array([[-1.0061498],\n",
              "        [-0.8933129],\n",
              "        [-1.3714135]], dtype=float32),\n",
              " array([0.10994741], dtype=float32)]"
            ]
          },
          "metadata": {},
          "execution_count": 34
        }
      ]
    },
    {
      "cell_type": "code",
      "source": [
        "model.predict(test_x_scal)"
      ],
      "metadata": {
        "colab": {
          "base_uri": "https://localhost:8080/"
        },
        "id": "X_v5DZAW3xkK",
        "outputId": "1dcbcd0d-826b-4df8-8b40-439d683836e9"
      },
      "execution_count": null,
      "outputs": [
        {
          "output_type": "stream",
          "name": "stdout",
          "text": [
            "63/63 [==============================] - 1s 3ms/step\n"
          ]
        },
        {
          "output_type": "execute_result",
          "data": {
            "text/plain": [
              "array([[0.18654338],\n",
              "       [0.09475276],\n",
              "       [0.11472201],\n",
              "       ...,\n",
              "       [0.0988325 ],\n",
              "       [0.09860458],\n",
              "       [0.07385086]], dtype=float32)"
            ]
          },
          "metadata": {},
          "execution_count": 35
        }
      ]
    },
    {
      "cell_type": "code",
      "source": [
        "import numpy as np\n",
        "y_pred = np.where(model.predict(test_x_scal)>0.5,1,0)\n",
        "y_pred"
      ],
      "metadata": {
        "colab": {
          "base_uri": "https://localhost:8080/"
        },
        "id": "KIp9-Nc133oZ",
        "outputId": "846695f5-5f12-450f-a1aa-550ebb095739"
      },
      "execution_count": null,
      "outputs": [
        {
          "output_type": "stream",
          "name": "stdout",
          "text": [
            "63/63 [==============================] - 0s 1ms/step\n"
          ]
        },
        {
          "output_type": "execute_result",
          "data": {
            "text/plain": [
              "array([[0],\n",
              "       [0],\n",
              "       [0],\n",
              "       ...,\n",
              "       [0],\n",
              "       [0],\n",
              "       [0]])"
            ]
          },
          "metadata": {},
          "execution_count": 37
        }
      ]
    },
    {
      "cell_type": "code",
      "source": [
        "from sklearn.metrics import accuracy_score\n",
        "\n",
        "accuracy_score(test_y,y_pred)"
      ],
      "metadata": {
        "colab": {
          "base_uri": "https://localhost:8080/"
        },
        "id": "lcsrstno37a6",
        "outputId": "d0570ec6-ce4b-4bea-e0ed-7836004a1a08"
      },
      "execution_count": null,
      "outputs": [
        {
          "output_type": "execute_result",
          "data": {
            "text/plain": [
              "0.7945"
            ]
          },
          "metadata": {},
          "execution_count": 38
        }
      ]
    },
    {
      "cell_type": "code",
      "source": [
        "model = Sequential()\n",
        "\n",
        "#input layer\n",
        "model.add(Dense(11,activation='relu',input_dim=11))\n",
        "model.add(Dense(11,activation='relu'))\n",
        "#output layer\n",
        "model.add(Dense(1,activation='sigmoid'))\n",
        "\n",
        "model.summary()"
      ],
      "metadata": {
        "colab": {
          "base_uri": "https://localhost:8080/"
        },
        "id": "VXtZE8864HgK",
        "outputId": "d1257c4d-4d20-48e7-9918-96928ec69d80"
      },
      "execution_count": null,
      "outputs": [
        {
          "output_type": "stream",
          "name": "stdout",
          "text": [
            "Model: \"sequential_1\"\n",
            "_________________________________________________________________\n",
            " Layer (type)                Output Shape              Param #   \n",
            "=================================================================\n",
            " dense_2 (Dense)             (None, 11)                132       \n",
            "                                                                 \n",
            " dense_3 (Dense)             (None, 11)                132       \n",
            "                                                                 \n",
            " dense_4 (Dense)             (None, 1)                 12        \n",
            "                                                                 \n",
            "=================================================================\n",
            "Total params: 276\n",
            "Trainable params: 276\n",
            "Non-trainable params: 0\n",
            "_________________________________________________________________\n"
          ]
        }
      ]
    },
    {
      "cell_type": "code",
      "source": [
        "model.compile(loss='binary_crossentropy',optimizer='Adam',metrics=['accuracy'])\n",
        "\n",
        "hist_ = model.fit(train_x_scal, train_y,epochs=100,validation_split=0.2)"
      ],
      "metadata": {
        "colab": {
          "base_uri": "https://localhost:8080/"
        },
        "id": "suSvYLlL4jxh",
        "outputId": "98a042bf-7eda-41ed-fd12-09307672b3c2"
      },
      "execution_count": null,
      "outputs": [
        {
          "output_type": "stream",
          "name": "stdout",
          "text": [
            "Epoch 1/100\n",
            "200/200 [==============================] - 3s 5ms/step - loss: 0.5908 - accuracy: 0.6959 - val_loss: 0.4655 - val_accuracy: 0.8100\n",
            "Epoch 2/100\n",
            "200/200 [==============================] - 0s 2ms/step - loss: 0.4574 - accuracy: 0.7959 - val_loss: 0.4346 - val_accuracy: 0.8087\n",
            "Epoch 3/100\n",
            "200/200 [==============================] - 0s 2ms/step - loss: 0.4384 - accuracy: 0.7983 - val_loss: 0.4267 - val_accuracy: 0.8163\n",
            "Epoch 4/100\n",
            "200/200 [==============================] - 1s 3ms/step - loss: 0.4302 - accuracy: 0.8023 - val_loss: 0.4218 - val_accuracy: 0.8163\n",
            "Epoch 5/100\n",
            "200/200 [==============================] - 0s 2ms/step - loss: 0.4250 - accuracy: 0.8094 - val_loss: 0.4172 - val_accuracy: 0.8213\n",
            "Epoch 6/100\n",
            "200/200 [==============================] - 0s 2ms/step - loss: 0.4195 - accuracy: 0.8184 - val_loss: 0.4130 - val_accuracy: 0.8231\n",
            "Epoch 7/100\n",
            "200/200 [==============================] - 0s 2ms/step - loss: 0.4132 - accuracy: 0.8253 - val_loss: 0.4062 - val_accuracy: 0.8313\n",
            "Epoch 8/100\n",
            "200/200 [==============================] - 1s 3ms/step - loss: 0.4043 - accuracy: 0.8314 - val_loss: 0.3981 - val_accuracy: 0.8313\n",
            "Epoch 9/100\n",
            "200/200 [==============================] - 1s 3ms/step - loss: 0.3928 - accuracy: 0.8403 - val_loss: 0.3866 - val_accuracy: 0.8444\n",
            "Epoch 10/100\n",
            "200/200 [==============================] - 0s 2ms/step - loss: 0.3796 - accuracy: 0.8472 - val_loss: 0.3747 - val_accuracy: 0.8487\n",
            "Epoch 11/100\n",
            "200/200 [==============================] - 0s 2ms/step - loss: 0.3678 - accuracy: 0.8550 - val_loss: 0.3647 - val_accuracy: 0.8506\n",
            "Epoch 12/100\n",
            "200/200 [==============================] - 0s 2ms/step - loss: 0.3584 - accuracy: 0.8600 - val_loss: 0.3581 - val_accuracy: 0.8519\n",
            "Epoch 13/100\n",
            "200/200 [==============================] - 1s 3ms/step - loss: 0.3514 - accuracy: 0.8602 - val_loss: 0.3539 - val_accuracy: 0.8537\n",
            "Epoch 14/100\n",
            "200/200 [==============================] - 0s 2ms/step - loss: 0.3470 - accuracy: 0.8625 - val_loss: 0.3495 - val_accuracy: 0.8556\n",
            "Epoch 15/100\n",
            "200/200 [==============================] - 0s 2ms/step - loss: 0.3434 - accuracy: 0.8620 - val_loss: 0.3487 - val_accuracy: 0.8587\n",
            "Epoch 16/100\n",
            "200/200 [==============================] - 1s 3ms/step - loss: 0.3413 - accuracy: 0.8641 - val_loss: 0.3475 - val_accuracy: 0.8575\n",
            "Epoch 17/100\n",
            "200/200 [==============================] - 0s 2ms/step - loss: 0.3397 - accuracy: 0.8647 - val_loss: 0.3480 - val_accuracy: 0.8544\n",
            "Epoch 18/100\n",
            "200/200 [==============================] - 0s 2ms/step - loss: 0.3391 - accuracy: 0.8637 - val_loss: 0.3473 - val_accuracy: 0.8562\n",
            "Epoch 19/100\n",
            "200/200 [==============================] - 0s 2ms/step - loss: 0.3370 - accuracy: 0.8645 - val_loss: 0.3492 - val_accuracy: 0.8594\n",
            "Epoch 20/100\n",
            "200/200 [==============================] - 1s 3ms/step - loss: 0.3366 - accuracy: 0.8633 - val_loss: 0.3480 - val_accuracy: 0.8569\n",
            "Epoch 21/100\n",
            "200/200 [==============================] - 1s 3ms/step - loss: 0.3360 - accuracy: 0.8622 - val_loss: 0.3477 - val_accuracy: 0.8556\n",
            "Epoch 22/100\n",
            "200/200 [==============================] - 1s 3ms/step - loss: 0.3350 - accuracy: 0.8634 - val_loss: 0.3469 - val_accuracy: 0.8569\n",
            "Epoch 23/100\n",
            "200/200 [==============================] - 1s 3ms/step - loss: 0.3348 - accuracy: 0.8644 - val_loss: 0.3467 - val_accuracy: 0.8600\n",
            "Epoch 24/100\n",
            "200/200 [==============================] - 1s 3ms/step - loss: 0.3338 - accuracy: 0.8631 - val_loss: 0.3473 - val_accuracy: 0.8581\n",
            "Epoch 25/100\n",
            "200/200 [==============================] - 0s 2ms/step - loss: 0.3333 - accuracy: 0.8650 - val_loss: 0.3460 - val_accuracy: 0.8556\n",
            "Epoch 26/100\n",
            "200/200 [==============================] - 0s 2ms/step - loss: 0.3328 - accuracy: 0.8661 - val_loss: 0.3472 - val_accuracy: 0.8569\n",
            "Epoch 27/100\n",
            "200/200 [==============================] - 0s 2ms/step - loss: 0.3325 - accuracy: 0.8636 - val_loss: 0.3463 - val_accuracy: 0.8575\n",
            "Epoch 28/100\n",
            "200/200 [==============================] - 0s 2ms/step - loss: 0.3318 - accuracy: 0.8656 - val_loss: 0.3460 - val_accuracy: 0.8562\n",
            "Epoch 29/100\n",
            "200/200 [==============================] - 0s 2ms/step - loss: 0.3311 - accuracy: 0.8645 - val_loss: 0.3457 - val_accuracy: 0.8562\n",
            "Epoch 30/100\n",
            "200/200 [==============================] - 0s 2ms/step - loss: 0.3305 - accuracy: 0.8648 - val_loss: 0.3465 - val_accuracy: 0.8575\n",
            "Epoch 31/100\n",
            "200/200 [==============================] - 0s 2ms/step - loss: 0.3303 - accuracy: 0.8655 - val_loss: 0.3454 - val_accuracy: 0.8556\n",
            "Epoch 32/100\n",
            "200/200 [==============================] - 0s 2ms/step - loss: 0.3303 - accuracy: 0.8642 - val_loss: 0.3465 - val_accuracy: 0.8562\n",
            "Epoch 33/100\n",
            "200/200 [==============================] - 1s 3ms/step - loss: 0.3302 - accuracy: 0.8659 - val_loss: 0.3456 - val_accuracy: 0.8550\n",
            "Epoch 34/100\n",
            "200/200 [==============================] - 0s 2ms/step - loss: 0.3293 - accuracy: 0.8650 - val_loss: 0.3469 - val_accuracy: 0.8562\n",
            "Epoch 35/100\n",
            "200/200 [==============================] - 1s 3ms/step - loss: 0.3298 - accuracy: 0.8645 - val_loss: 0.3467 - val_accuracy: 0.8550\n",
            "Epoch 36/100\n",
            "200/200 [==============================] - 0s 2ms/step - loss: 0.3292 - accuracy: 0.8645 - val_loss: 0.3457 - val_accuracy: 0.8556\n",
            "Epoch 37/100\n",
            "200/200 [==============================] - 1s 3ms/step - loss: 0.3289 - accuracy: 0.8631 - val_loss: 0.3462 - val_accuracy: 0.8544\n",
            "Epoch 38/100\n",
            "200/200 [==============================] - 0s 2ms/step - loss: 0.3289 - accuracy: 0.8642 - val_loss: 0.3452 - val_accuracy: 0.8575\n",
            "Epoch 39/100\n",
            "200/200 [==============================] - 0s 2ms/step - loss: 0.3285 - accuracy: 0.8631 - val_loss: 0.3466 - val_accuracy: 0.8544\n",
            "Epoch 40/100\n",
            "200/200 [==============================] - 0s 2ms/step - loss: 0.3282 - accuracy: 0.8653 - val_loss: 0.3473 - val_accuracy: 0.8562\n",
            "Epoch 41/100\n",
            "200/200 [==============================] - 1s 3ms/step - loss: 0.3284 - accuracy: 0.8659 - val_loss: 0.3464 - val_accuracy: 0.8581\n",
            "Epoch 42/100\n",
            "200/200 [==============================] - 0s 2ms/step - loss: 0.3276 - accuracy: 0.8641 - val_loss: 0.3458 - val_accuracy: 0.8556\n",
            "Epoch 43/100\n",
            "200/200 [==============================] - 0s 2ms/step - loss: 0.3278 - accuracy: 0.8650 - val_loss: 0.3470 - val_accuracy: 0.8587\n",
            "Epoch 44/100\n",
            "200/200 [==============================] - 0s 2ms/step - loss: 0.3276 - accuracy: 0.8637 - val_loss: 0.3453 - val_accuracy: 0.8562\n",
            "Epoch 45/100\n",
            "200/200 [==============================] - 1s 3ms/step - loss: 0.3276 - accuracy: 0.8645 - val_loss: 0.3460 - val_accuracy: 0.8575\n",
            "Epoch 46/100\n",
            "200/200 [==============================] - 1s 4ms/step - loss: 0.3271 - accuracy: 0.8655 - val_loss: 0.3468 - val_accuracy: 0.8544\n",
            "Epoch 47/100\n",
            "200/200 [==============================] - 1s 4ms/step - loss: 0.3272 - accuracy: 0.8644 - val_loss: 0.3473 - val_accuracy: 0.8575\n",
            "Epoch 48/100\n",
            "200/200 [==============================] - 1s 3ms/step - loss: 0.3276 - accuracy: 0.8666 - val_loss: 0.3459 - val_accuracy: 0.8562\n",
            "Epoch 49/100\n",
            "200/200 [==============================] - 1s 3ms/step - loss: 0.3272 - accuracy: 0.8659 - val_loss: 0.3465 - val_accuracy: 0.8581\n",
            "Epoch 50/100\n",
            "200/200 [==============================] - 0s 2ms/step - loss: 0.3267 - accuracy: 0.8641 - val_loss: 0.3463 - val_accuracy: 0.8550\n",
            "Epoch 51/100\n",
            "200/200 [==============================] - 0s 2ms/step - loss: 0.3264 - accuracy: 0.8648 - val_loss: 0.3469 - val_accuracy: 0.8556\n",
            "Epoch 52/100\n",
            "200/200 [==============================] - 0s 2ms/step - loss: 0.3266 - accuracy: 0.8642 - val_loss: 0.3467 - val_accuracy: 0.8550\n",
            "Epoch 53/100\n",
            "200/200 [==============================] - 0s 2ms/step - loss: 0.3262 - accuracy: 0.8644 - val_loss: 0.3461 - val_accuracy: 0.8569\n",
            "Epoch 54/100\n",
            "200/200 [==============================] - 1s 3ms/step - loss: 0.3260 - accuracy: 0.8661 - val_loss: 0.3463 - val_accuracy: 0.8562\n",
            "Epoch 55/100\n",
            "200/200 [==============================] - 0s 2ms/step - loss: 0.3262 - accuracy: 0.8655 - val_loss: 0.3469 - val_accuracy: 0.8562\n",
            "Epoch 56/100\n",
            "200/200 [==============================] - 0s 2ms/step - loss: 0.3260 - accuracy: 0.8650 - val_loss: 0.3457 - val_accuracy: 0.8550\n",
            "Epoch 57/100\n",
            "200/200 [==============================] - 0s 2ms/step - loss: 0.3258 - accuracy: 0.8662 - val_loss: 0.3464 - val_accuracy: 0.8556\n",
            "Epoch 58/100\n",
            "200/200 [==============================] - 0s 2ms/step - loss: 0.3262 - accuracy: 0.8661 - val_loss: 0.3458 - val_accuracy: 0.8562\n",
            "Epoch 59/100\n",
            "200/200 [==============================] - 0s 2ms/step - loss: 0.3256 - accuracy: 0.8664 - val_loss: 0.3459 - val_accuracy: 0.8550\n",
            "Epoch 60/100\n",
            "200/200 [==============================] - 0s 2ms/step - loss: 0.3255 - accuracy: 0.8672 - val_loss: 0.3465 - val_accuracy: 0.8556\n",
            "Epoch 61/100\n",
            "200/200 [==============================] - 0s 2ms/step - loss: 0.3252 - accuracy: 0.8645 - val_loss: 0.3480 - val_accuracy: 0.8531\n",
            "Epoch 62/100\n",
            "200/200 [==============================] - 0s 2ms/step - loss: 0.3251 - accuracy: 0.8659 - val_loss: 0.3462 - val_accuracy: 0.8537\n",
            "Epoch 63/100\n",
            "200/200 [==============================] - 0s 2ms/step - loss: 0.3256 - accuracy: 0.8661 - val_loss: 0.3459 - val_accuracy: 0.8550\n",
            "Epoch 64/100\n",
            "200/200 [==============================] - 0s 2ms/step - loss: 0.3248 - accuracy: 0.8662 - val_loss: 0.3465 - val_accuracy: 0.8556\n",
            "Epoch 65/100\n",
            "200/200 [==============================] - 0s 2ms/step - loss: 0.3251 - accuracy: 0.8662 - val_loss: 0.3470 - val_accuracy: 0.8556\n",
            "Epoch 66/100\n",
            "200/200 [==============================] - 1s 3ms/step - loss: 0.3247 - accuracy: 0.8656 - val_loss: 0.3456 - val_accuracy: 0.8556\n",
            "Epoch 67/100\n",
            "200/200 [==============================] - 0s 2ms/step - loss: 0.3247 - accuracy: 0.8650 - val_loss: 0.3464 - val_accuracy: 0.8569\n",
            "Epoch 68/100\n",
            "200/200 [==============================] - 0s 2ms/step - loss: 0.3242 - accuracy: 0.8659 - val_loss: 0.3460 - val_accuracy: 0.8556\n",
            "Epoch 69/100\n",
            "200/200 [==============================] - 0s 2ms/step - loss: 0.3244 - accuracy: 0.8653 - val_loss: 0.3457 - val_accuracy: 0.8562\n",
            "Epoch 70/100\n",
            "200/200 [==============================] - 0s 2ms/step - loss: 0.3243 - accuracy: 0.8661 - val_loss: 0.3460 - val_accuracy: 0.8575\n",
            "Epoch 71/100\n",
            "200/200 [==============================] - 1s 3ms/step - loss: 0.3242 - accuracy: 0.8656 - val_loss: 0.3462 - val_accuracy: 0.8569\n",
            "Epoch 72/100\n",
            "200/200 [==============================] - 1s 3ms/step - loss: 0.3244 - accuracy: 0.8655 - val_loss: 0.3458 - val_accuracy: 0.8562\n",
            "Epoch 73/100\n",
            "200/200 [==============================] - 1s 3ms/step - loss: 0.3242 - accuracy: 0.8652 - val_loss: 0.3457 - val_accuracy: 0.8569\n",
            "Epoch 74/100\n",
            "200/200 [==============================] - 1s 3ms/step - loss: 0.3240 - accuracy: 0.8664 - val_loss: 0.3458 - val_accuracy: 0.8587\n",
            "Epoch 75/100\n",
            "200/200 [==============================] - 1s 3ms/step - loss: 0.3238 - accuracy: 0.8666 - val_loss: 0.3470 - val_accuracy: 0.8562\n",
            "Epoch 76/100\n",
            "200/200 [==============================] - 0s 2ms/step - loss: 0.3240 - accuracy: 0.8669 - val_loss: 0.3464 - val_accuracy: 0.8562\n",
            "Epoch 77/100\n",
            "200/200 [==============================] - 1s 3ms/step - loss: 0.3238 - accuracy: 0.8662 - val_loss: 0.3460 - val_accuracy: 0.8562\n",
            "Epoch 78/100\n",
            "200/200 [==============================] - 1s 3ms/step - loss: 0.3236 - accuracy: 0.8684 - val_loss: 0.3463 - val_accuracy: 0.8569\n",
            "Epoch 79/100\n",
            "200/200 [==============================] - 0s 2ms/step - loss: 0.3232 - accuracy: 0.8669 - val_loss: 0.3463 - val_accuracy: 0.8581\n",
            "Epoch 80/100\n",
            "200/200 [==============================] - 1s 3ms/step - loss: 0.3234 - accuracy: 0.8655 - val_loss: 0.3476 - val_accuracy: 0.8569\n",
            "Epoch 81/100\n",
            "200/200 [==============================] - 1s 3ms/step - loss: 0.3234 - accuracy: 0.8672 - val_loss: 0.3464 - val_accuracy: 0.8550\n",
            "Epoch 82/100\n",
            "200/200 [==============================] - 1s 3ms/step - loss: 0.3225 - accuracy: 0.8661 - val_loss: 0.3466 - val_accuracy: 0.8556\n",
            "Epoch 83/100\n",
            "200/200 [==============================] - 1s 3ms/step - loss: 0.3228 - accuracy: 0.8683 - val_loss: 0.3475 - val_accuracy: 0.8594\n",
            "Epoch 84/100\n",
            "200/200 [==============================] - 1s 3ms/step - loss: 0.3224 - accuracy: 0.8662 - val_loss: 0.3471 - val_accuracy: 0.8550\n",
            "Epoch 85/100\n",
            "200/200 [==============================] - 1s 3ms/step - loss: 0.3225 - accuracy: 0.8653 - val_loss: 0.3466 - val_accuracy: 0.8562\n",
            "Epoch 86/100\n",
            "200/200 [==============================] - 1s 3ms/step - loss: 0.3223 - accuracy: 0.8669 - val_loss: 0.3480 - val_accuracy: 0.8550\n",
            "Epoch 87/100\n",
            "200/200 [==============================] - 0s 2ms/step - loss: 0.3225 - accuracy: 0.8661 - val_loss: 0.3468 - val_accuracy: 0.8569\n",
            "Epoch 88/100\n",
            "200/200 [==============================] - 0s 2ms/step - loss: 0.3223 - accuracy: 0.8692 - val_loss: 0.3475 - val_accuracy: 0.8562\n",
            "Epoch 89/100\n",
            "200/200 [==============================] - 1s 3ms/step - loss: 0.3224 - accuracy: 0.8664 - val_loss: 0.3471 - val_accuracy: 0.8550\n",
            "Epoch 90/100\n",
            "200/200 [==============================] - 0s 2ms/step - loss: 0.3219 - accuracy: 0.8659 - val_loss: 0.3472 - val_accuracy: 0.8556\n",
            "Epoch 91/100\n",
            "200/200 [==============================] - 0s 2ms/step - loss: 0.3217 - accuracy: 0.8662 - val_loss: 0.3473 - val_accuracy: 0.8556\n",
            "Epoch 92/100\n",
            "200/200 [==============================] - 0s 2ms/step - loss: 0.3216 - accuracy: 0.8659 - val_loss: 0.3471 - val_accuracy: 0.8562\n",
            "Epoch 93/100\n",
            "200/200 [==============================] - 0s 2ms/step - loss: 0.3214 - accuracy: 0.8683 - val_loss: 0.3483 - val_accuracy: 0.8519\n",
            "Epoch 94/100\n",
            "200/200 [==============================] - 1s 3ms/step - loss: 0.3216 - accuracy: 0.8658 - val_loss: 0.3478 - val_accuracy: 0.8556\n",
            "Epoch 95/100\n",
            "200/200 [==============================] - 1s 3ms/step - loss: 0.3217 - accuracy: 0.8670 - val_loss: 0.3479 - val_accuracy: 0.8525\n",
            "Epoch 96/100\n",
            "200/200 [==============================] - 1s 3ms/step - loss: 0.3212 - accuracy: 0.8662 - val_loss: 0.3474 - val_accuracy: 0.8562\n",
            "Epoch 97/100\n",
            "200/200 [==============================] - 1s 4ms/step - loss: 0.3211 - accuracy: 0.8669 - val_loss: 0.3464 - val_accuracy: 0.8569\n",
            "Epoch 98/100\n",
            "200/200 [==============================] - 1s 3ms/step - loss: 0.3211 - accuracy: 0.8667 - val_loss: 0.3473 - val_accuracy: 0.8544\n",
            "Epoch 99/100\n",
            "200/200 [==============================] - 1s 3ms/step - loss: 0.3211 - accuracy: 0.8658 - val_loss: 0.3483 - val_accuracy: 0.8562\n",
            "Epoch 100/100\n",
            "200/200 [==============================] - 0s 2ms/step - loss: 0.3213 - accuracy: 0.8656 - val_loss: 0.3469 - val_accuracy: 0.8569\n"
          ]
        }
      ]
    },
    {
      "cell_type": "code",
      "source": [
        "plt.plot(hist_.history['loss'])\n",
        "plt.plot(hist_.history['val_loss'])\n",
        "plt.show()"
      ],
      "metadata": {
        "colab": {
          "base_uri": "https://localhost:8080/",
          "height": 430
        },
        "id": "RN7GHyAD4oHK",
        "outputId": "94e2ccf7-5690-4a70-f730-eb3b17333c6e"
      },
      "execution_count": null,
      "outputs": [
        {
          "output_type": "display_data",
          "data": {
            "text/plain": [
              "<Figure size 640x480 with 1 Axes>"
            ],
            "image/png": "[encoded data removed]"
          },
          "metadata": {}
        }
      ]
    },
    {
      "cell_type": "code",
      "source": [
        "plt.plot(hist_.history['accuracy'])\n",
        "plt.plot(hist_.history['val_accuracy'])\n",
        "plt.show()"
      ],
      "metadata": {
        "colab": {
          "base_uri": "https://localhost:8080/",
          "height": 430
        },
        "id": "WE8LbKpL49YX",
        "outputId": "33c2f916-65da-436d-d9a8-31e2ce1e154a"
      },
      "execution_count": null,
      "outputs": [
        {
          "output_type": "display_data",
          "data": {
            "text/plain": [
              "<Figure size 640x480 with 1 Axes>"
            ],
            "image/png": "[encoded data removed]"
          },
          "metadata": {}
        }
      ]
    },
    {
      "cell_type": "code",
      "source": [
        "y_pred = np.where(model.predict(test_x_scal)>0.5,1,0)\n"
      ],
      "metadata": {
        "colab": {
          "base_uri": "https://localhost:8080/"
        },
        "id": "YVEKS81c5Cvp",
        "outputId": "080f4711-47c6-4627-d44d-610211ab061a"
      },
      "execution_count": null,
      "outputs": [
        {
          "output_type": "stream",
          "name": "stdout",
          "text": [
            "63/63 [==============================] - 0s 1ms/step\n"
          ]
        }
      ]
    },
    {
      "cell_type": "code",
      "source": [
        "accuracy_score(test_y,y_pred)\n"
      ],
      "metadata": {
        "id": "a53n0W0E5ImS",
        "outputId": "928a00dc-cebd-4b7b-fa09-f3ffeb305ee8",
        "colab": {
          "base_uri": "https://localhost:8080/"
        }
      },
      "execution_count": null,
      "outputs": [
        {
          "output_type": "execute_result",
          "data": {
            "text/plain": [
              "0.8495"
            ]
          },
          "metadata": {},
          "execution_count": 44
        }
      ]
    },
    {
      "cell_type": "code",
      "source": [],
      "metadata": {
        "id": "eGkwiRC_5L6R"
      },
      "execution_count": null,
      "outputs": []
    }
  ]
}